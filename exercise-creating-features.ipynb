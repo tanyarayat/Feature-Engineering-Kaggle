{
 "cells": [
  {
   "cell_type": "markdown",
   "id": "413b6729",
   "metadata": {
    "papermill": {
     "duration": 0.013917,
     "end_time": "2021-07-19T11:23:27.752749",
     "exception": false,
     "start_time": "2021-07-19T11:23:27.738832",
     "status": "completed"
    },
    "tags": []
   },
   "source": [
    "**This notebook is an exercise in the [Feature Engineering](https://www.kaggle.com/learn/feature-engineering) course.  You can reference the tutorial at [this link](https://www.kaggle.com/ryanholbrook/creating-features).**\n",
    "\n",
    "---\n"
   ]
  },
  {
   "cell_type": "markdown",
   "id": "10dd661e",
   "metadata": {
    "papermill": {
     "duration": 0.012276,
     "end_time": "2021-07-19T11:23:27.778270",
     "exception": false,
     "start_time": "2021-07-19T11:23:27.765994",
     "status": "completed"
    },
    "tags": []
   },
   "source": [
    "# Introduction #\n",
    "\n",
    "In this exercise you'll start developing the features you identified in Exercise 2 as having the most potential. As you work through this exercise, you might take a moment to look at the data documentation again and consider whether the features we're creating make sense from a real-world perspective, and whether there are any useful combinations that stand out to you.\n",
    "\n",
    "Run this cell to set everything up!"
   ]
  },
  {
   "cell_type": "code",
   "execution_count": 1,
   "id": "562d4e1c",
   "metadata": {
    "execution": {
     "iopub.execute_input": "2021-07-19T11:23:27.807365Z",
     "iopub.status.busy": "2021-07-19T11:23:27.806352Z",
     "iopub.status.idle": "2021-07-19T11:23:29.099638Z",
     "shell.execute_reply": "2021-07-19T11:23:29.100286Z",
     "shell.execute_reply.started": "2021-07-19T11:13:42.394240Z"
    },
    "papermill": {
     "duration": 1.309675,
     "end_time": "2021-07-19T11:23:29.100658",
     "exception": false,
     "start_time": "2021-07-19T11:23:27.790983",
     "status": "completed"
    },
    "tags": []
   },
   "outputs": [],
   "source": [
    "# Setup feedback system\n",
    "from learntools.core import binder\n",
    "binder.bind(globals())\n",
    "from learntools.feature_engineering_new.ex3 import *\n",
    "\n",
    "import numpy as np\n",
    "import pandas as pd\n",
    "from sklearn.model_selection import cross_val_score\n",
    "from xgboost import XGBRegressor\n",
    "\n",
    "\n",
    "def score_dataset(X, y, model=XGBRegressor()):\n",
    "    # Label encoding for categoricals\n",
    "    for colname in X.select_dtypes([\"category\", \"object\"]):\n",
    "        X[colname], _ = X[colname].factorize()\n",
    "    # Metric for Housing competition is RMSLE (Root Mean Squared Log Error)\n",
    "    score = cross_val_score(\n",
    "        model, X, y, cv=5, scoring=\"neg_mean_squared_log_error\",\n",
    "    )\n",
    "    score = -1 * score.mean()\n",
    "    score = np.sqrt(score)\n",
    "    return score\n",
    "\n",
    "\n",
    "# Prepare data\n",
    "df = pd.read_csv(\"../input/fe-course-data/ames.csv\")\n",
    "X = df.copy()\n",
    "y = X.pop(\"SalePrice\")"
   ]
  },
  {
   "cell_type": "markdown",
   "id": "1bfd1d1d",
   "metadata": {
    "papermill": {
     "duration": 0.012495,
     "end_time": "2021-07-19T11:23:29.127755",
     "exception": false,
     "start_time": "2021-07-19T11:23:29.115260",
     "status": "completed"
    },
    "tags": []
   },
   "source": [
    "-------------------------------------------------------------------------------\n",
    "\n",
    "Let's start with a few mathematical combinations. We'll focus on features describing areas -- having the same units (square-feet) makes it easy to combine them in sensible ways. Since we're using XGBoost (a tree-based model), we'll focus on ratios and sums.\n",
    "\n",
    "# 1) Create Mathematical Transforms\n",
    "\n",
    "Create the following features:\n",
    "\n",
    "- `LivLotRatio`: the ratio of `GrLivArea` to `LotArea`\n",
    "- `Spaciousness`: the sum of `FirstFlrSF` and `SecondFlrSF` divided by `TotRmsAbvGrd`\n",
    "- `TotalOutsideSF`: the sum of `WoodDeckSF`, `OpenPorchSF`, `EnclosedPorch`, `Threeseasonporch`, and `ScreenPorch`"
   ]
  },
  {
   "cell_type": "code",
   "execution_count": 2,
   "id": "9a440c9f",
   "metadata": {
    "execution": {
     "iopub.execute_input": "2021-07-19T11:23:29.160238Z",
     "iopub.status.busy": "2021-07-19T11:23:29.159564Z",
     "iopub.status.idle": "2021-07-19T11:23:29.193242Z",
     "shell.execute_reply": "2021-07-19T11:23:29.192796Z",
     "shell.execute_reply.started": "2021-07-19T11:14:14.744234Z"
    },
    "lines_to_next_cell": 0,
    "papermill": {
     "duration": 0.052728,
     "end_time": "2021-07-19T11:23:29.193404",
     "exception": false,
     "start_time": "2021-07-19T11:23:29.140676",
     "status": "completed"
    },
    "tags": []
   },
   "outputs": [
    {
     "data": {
      "application/javascript": [
       "parent.postMessage({\"jupyterEvent\": \"custom.exercise_interaction\", \"data\": {\"outcomeType\": 1, \"valueTowardsCompletion\": 0.2, \"interactionType\": 1, \"questionType\": 2, \"questionId\": \"1_Q1\", \"learnToolsVersion\": \"0.3.4\", \"failureMessage\": \"\", \"exceptionClass\": \"\", \"trace\": \"\"}}, \"*\")"
      ],
      "text/plain": [
       "<IPython.core.display.Javascript object>"
      ]
     },
     "metadata": {},
     "output_type": "display_data"
    },
    {
     "data": {
      "text/markdown": [
       "<span style=\"color:#33cc33\">Correct</span>"
      ],
      "text/plain": [
       "Correct"
      ]
     },
     "metadata": {},
     "output_type": "display_data"
    }
   ],
   "source": [
    "# YOUR CODE HERE\n",
    "X_1 = pd.DataFrame()  # dataframe to hold new features\n",
    "\n",
    "X_1[\"LivLotRatio\"] = df.GrLivArea / df.LotArea\n",
    "X_1[\"Spaciousness\"] = (df.FirstFlrSF + df.SecondFlrSF) / df.TotRmsAbvGrd\n",
    "X_1[\"TotalOutsideSF\"] = df.WoodDeckSF + df.OpenPorchSF + df.EnclosedPorch + df.Threeseasonporch + df.ScreenPorch\n",
    "\n",
    "# Check your answer\n",
    "q_1.check()"
   ]
  },
  {
   "cell_type": "code",
   "execution_count": 3,
   "id": "842d18b3",
   "metadata": {
    "execution": {
     "iopub.execute_input": "2021-07-19T11:23:29.226098Z",
     "iopub.status.busy": "2021-07-19T11:23:29.225389Z",
     "iopub.status.idle": "2021-07-19T11:23:29.228539Z",
     "shell.execute_reply": "2021-07-19T11:23:29.227926Z",
     "shell.execute_reply.started": "2021-07-19T11:14:17.504928Z"
    },
    "lines_to_next_cell": 0,
    "papermill": {
     "duration": 0.020616,
     "end_time": "2021-07-19T11:23:29.228694",
     "exception": false,
     "start_time": "2021-07-19T11:23:29.208078",
     "status": "completed"
    },
    "tags": []
   },
   "outputs": [],
   "source": [
    "# Lines below will give you a hint or solution code\n",
    "#q_1.hint()\n",
    "#q_1.solution()"
   ]
  },
  {
   "cell_type": "markdown",
   "id": "a28fa579",
   "metadata": {
    "papermill": {
     "duration": 0.013051,
     "end_time": "2021-07-19T11:23:29.255275",
     "exception": false,
     "start_time": "2021-07-19T11:23:29.242224",
     "status": "completed"
    },
    "tags": []
   },
   "source": [
    "-------------------------------------------------------------------------------\n",
    "\n",
    "If you've discovered an interaction effect between a numeric feature and a categorical feature, you might want to model it explicitly using a one-hot encoding, like so:\n",
    "\n",
    "```\n",
    "# One-hot encode Categorical feature, adding a column prefix \"Cat\"\n",
    "X_new = pd.get_dummies(df.Categorical, prefix=\"Cat\")\n",
    "\n",
    "# Multiply row-by-row\n",
    "X_new = X_new.mul(df.Continuous, axis=0)\n",
    "\n",
    "# Join the new features to the feature set\n",
    "X = X.join(X_new)\n",
    "```\n",
    "\n",
    "# 2) Interaction with a Categorical\n",
    "\n",
    "We discovered an interaction between `BldgType` and `GrLivArea` in Exercise 2. Now create their interaction features."
   ]
  },
  {
   "cell_type": "code",
   "execution_count": 4,
   "id": "0ae00ee8",
   "metadata": {
    "execution": {
     "iopub.execute_input": "2021-07-19T11:23:29.292720Z",
     "iopub.status.busy": "2021-07-19T11:23:29.292114Z",
     "iopub.status.idle": "2021-07-19T11:23:29.306565Z",
     "shell.execute_reply": "2021-07-19T11:23:29.306027Z",
     "shell.execute_reply.started": "2021-07-19T11:14:51.696062Z"
    },
    "lines_to_next_cell": 0,
    "papermill": {
     "duration": 0.038025,
     "end_time": "2021-07-19T11:23:29.306705",
     "exception": false,
     "start_time": "2021-07-19T11:23:29.268680",
     "status": "completed"
    },
    "tags": []
   },
   "outputs": [
    {
     "data": {
      "application/javascript": [
       "parent.postMessage({\"jupyterEvent\": \"custom.exercise_interaction\", \"data\": {\"outcomeType\": 1, \"valueTowardsCompletion\": 0.2, \"interactionType\": 1, \"questionType\": 2, \"questionId\": \"2_Q2\", \"learnToolsVersion\": \"0.3.4\", \"failureMessage\": \"\", \"exceptionClass\": \"\", \"trace\": \"\"}}, \"*\")"
      ],
      "text/plain": [
       "<IPython.core.display.Javascript object>"
      ]
     },
     "metadata": {},
     "output_type": "display_data"
    },
    {
     "data": {
      "text/markdown": [
       "<span style=\"color:#33cc33\">Correct</span>"
      ],
      "text/plain": [
       "Correct"
      ]
     },
     "metadata": {},
     "output_type": "display_data"
    }
   ],
   "source": [
    "# YOUR CODE HERE\n",
    "# One-hot encode BldgType. Use `prefix=\"Bldg\"` in `get_dummies`\n",
    "X_2 = pd.get_dummies(df.BldgType, prefix=\"Bldg\")\n",
    "X_2 = X_2.mul(df.GrLivArea, axis=0)\n",
    "\n",
    "\n",
    "# Check your answer\n",
    "q_2.check()"
   ]
  },
  {
   "cell_type": "code",
   "execution_count": 5,
   "id": "08f6aed4",
   "metadata": {
    "execution": {
     "iopub.execute_input": "2021-07-19T11:23:29.338955Z",
     "iopub.status.busy": "2021-07-19T11:23:29.338361Z",
     "iopub.status.idle": "2021-07-19T11:23:29.341497Z",
     "shell.execute_reply": "2021-07-19T11:23:29.340963Z",
     "shell.execute_reply.started": "2021-07-19T11:14:54.214981Z"
    },
    "lines_to_next_cell": 0,
    "papermill": {
     "duration": 0.020729,
     "end_time": "2021-07-19T11:23:29.341633",
     "exception": false,
     "start_time": "2021-07-19T11:23:29.320904",
     "status": "completed"
    },
    "tags": []
   },
   "outputs": [],
   "source": [
    "# Lines below will give you a hint or solution code\n",
    "#q_2.hint()\n",
    "#q_2.solution()"
   ]
  },
  {
   "cell_type": "markdown",
   "id": "e0c307e4",
   "metadata": {
    "lines_to_next_cell": 0,
    "papermill": {
     "duration": 0.013622,
     "end_time": "2021-07-19T11:23:29.369717",
     "exception": false,
     "start_time": "2021-07-19T11:23:29.356095",
     "status": "completed"
    },
    "tags": []
   },
   "source": [
    "# 3) Count Feature\n",
    "\n",
    "Let's try creating a feature that describes how many kinds of outdoor areas a dwelling has. Create a feature `PorchTypes` that counts how many of the following are greater than 0.0:\n",
    "\n",
    "```\n",
    "WoodDeckSF\n",
    "OpenPorchSF\n",
    "EnclosedPorch\n",
    "Threeseasonporch\n",
    "ScreenPorch\n",
    "```"
   ]
  },
  {
   "cell_type": "code",
   "execution_count": 6,
   "id": "d4bc0c8b",
   "metadata": {
    "execution": {
     "iopub.execute_input": "2021-07-19T11:23:29.409655Z",
     "iopub.status.busy": "2021-07-19T11:23:29.408657Z",
     "iopub.status.idle": "2021-07-19T11:23:29.418214Z",
     "shell.execute_reply": "2021-07-19T11:23:29.418633Z",
     "shell.execute_reply.started": "2021-07-19T11:15:45.100745Z"
    },
    "lines_to_next_cell": 0,
    "papermill": {
     "duration": 0.035217,
     "end_time": "2021-07-19T11:23:29.418855",
     "exception": false,
     "start_time": "2021-07-19T11:23:29.383638",
     "status": "completed"
    },
    "tags": []
   },
   "outputs": [
    {
     "data": {
      "application/javascript": [
       "parent.postMessage({\"jupyterEvent\": \"custom.exercise_interaction\", \"data\": {\"outcomeType\": 1, \"valueTowardsCompletion\": 0.2, \"interactionType\": 1, \"questionType\": 2, \"questionId\": \"3_Q3\", \"learnToolsVersion\": \"0.3.4\", \"failureMessage\": \"\", \"exceptionClass\": \"\", \"trace\": \"\"}}, \"*\")"
      ],
      "text/plain": [
       "<IPython.core.display.Javascript object>"
      ]
     },
     "metadata": {},
     "output_type": "display_data"
    },
    {
     "data": {
      "text/markdown": [
       "<span style=\"color:#33cc33\">Correct</span>"
      ],
      "text/plain": [
       "Correct"
      ]
     },
     "metadata": {},
     "output_type": "display_data"
    }
   ],
   "source": [
    "X_3 = pd.DataFrame()\n",
    "\n",
    "X_3[\"PorchTypes\"] = df[[\n",
    "    \"WoodDeckSF\",\n",
    "    \"OpenPorchSF\",\n",
    "    \"EnclosedPorch\",\n",
    "    \"Threeseasonporch\",\n",
    "    \"ScreenPorch\",\n",
    "]].gt(0.0).sum(axis=1)\n",
    "\n",
    "\n",
    "# Check your answer\n",
    "q_3.check()"
   ]
  },
  {
   "cell_type": "code",
   "execution_count": 7,
   "id": "50d59863",
   "metadata": {
    "execution": {
     "iopub.execute_input": "2021-07-19T11:23:29.454200Z",
     "iopub.status.busy": "2021-07-19T11:23:29.453182Z",
     "iopub.status.idle": "2021-07-19T11:23:29.455410Z",
     "shell.execute_reply": "2021-07-19T11:23:29.455815Z",
     "shell.execute_reply.started": "2021-07-19T11:15:49.849046Z"
    },
    "lines_to_next_cell": 0,
    "papermill": {
     "duration": 0.021722,
     "end_time": "2021-07-19T11:23:29.455996",
     "exception": false,
     "start_time": "2021-07-19T11:23:29.434274",
     "status": "completed"
    },
    "tags": []
   },
   "outputs": [],
   "source": [
    "# Lines below will give you a hint or solution code\n",
    "#q_3.hint()\n",
    "#q_3.solution()"
   ]
  },
  {
   "cell_type": "markdown",
   "id": "1402f227",
   "metadata": {
    "papermill": {
     "duration": 0.020197,
     "end_time": "2021-07-19T11:23:29.494200",
     "exception": false,
     "start_time": "2021-07-19T11:23:29.474003",
     "status": "completed"
    },
    "tags": []
   },
   "source": [
    "# 4) Break Down a Categorical Feature\n",
    "\n",
    "`MSSubClass` describes the type of a dwelling:"
   ]
  },
  {
   "cell_type": "code",
   "execution_count": 8,
   "id": "eef3c9f9",
   "metadata": {
    "execution": {
     "iopub.execute_input": "2021-07-19T11:23:29.544305Z",
     "iopub.status.busy": "2021-07-19T11:23:29.543133Z",
     "iopub.status.idle": "2021-07-19T11:23:29.554135Z",
     "shell.execute_reply": "2021-07-19T11:23:29.554809Z",
     "shell.execute_reply.started": "2021-07-19T11:15:53.034711Z"
    },
    "papermill": {
     "duration": 0.035922,
     "end_time": "2021-07-19T11:23:29.555081",
     "exception": false,
     "start_time": "2021-07-19T11:23:29.519159",
     "status": "completed"
    },
    "tags": []
   },
   "outputs": [
    {
     "data": {
      "text/plain": [
       "array(['One_Story_1946_and_Newer_All_Styles', 'Two_Story_1946_and_Newer',\n",
       "       'One_Story_PUD_1946_and_Newer',\n",
       "       'One_and_Half_Story_Finished_All_Ages', 'Split_Foyer',\n",
       "       'Two_Story_PUD_1946_and_Newer', 'Split_or_Multilevel',\n",
       "       'One_Story_1945_and_Older', 'Duplex_All_Styles_and_Ages',\n",
       "       'Two_Family_conversion_All_Styles_and_Ages',\n",
       "       'One_and_Half_Story_Unfinished_All_Ages',\n",
       "       'Two_Story_1945_and_Older', 'Two_and_Half_Story_All_Ages',\n",
       "       'One_Story_with_Finished_Attic_All_Ages',\n",
       "       'PUD_Multilevel_Split_Level_Foyer',\n",
       "       'One_and_Half_Story_PUD_All_Ages'], dtype=object)"
      ]
     },
     "execution_count": 8,
     "metadata": {},
     "output_type": "execute_result"
    }
   ],
   "source": [
    "df.MSSubClass.unique()"
   ]
  },
  {
   "cell_type": "markdown",
   "id": "87c40175",
   "metadata": {
    "papermill": {
     "duration": 0.021929,
     "end_time": "2021-07-19T11:23:29.597285",
     "exception": false,
     "start_time": "2021-07-19T11:23:29.575356",
     "status": "completed"
    },
    "tags": []
   },
   "source": [
    "You can see that there is a more general categorization described (roughly) by the first word of each category. Create a feature containing only these first words by splitting `MSSubClass` at the first underscore `_`. (Hint: In the `split` method use an argument `n=1`.)"
   ]
  },
  {
   "cell_type": "code",
   "execution_count": 9,
   "id": "e9efdaaf",
   "metadata": {
    "execution": {
     "iopub.execute_input": "2021-07-19T11:23:29.652239Z",
     "iopub.status.busy": "2021-07-19T11:23:29.651309Z",
     "iopub.status.idle": "2021-07-19T11:23:29.657374Z",
     "shell.execute_reply": "2021-07-19T11:23:29.656720Z",
     "shell.execute_reply.started": "2021-07-19T11:21:30.962736Z"
    },
    "lines_to_next_cell": 0,
    "papermill": {
     "duration": 0.044833,
     "end_time": "2021-07-19T11:23:29.657525",
     "exception": false,
     "start_time": "2021-07-19T11:23:29.612692",
     "status": "completed"
    },
    "tags": []
   },
   "outputs": [
    {
     "data": {
      "application/javascript": [
       "parent.postMessage({\"jupyterEvent\": \"custom.exercise_interaction\", \"data\": {\"outcomeType\": 1, \"valueTowardsCompletion\": 0.2, \"interactionType\": 1, \"questionType\": 2, \"questionId\": \"4_Q4\", \"learnToolsVersion\": \"0.3.4\", \"failureMessage\": \"\", \"exceptionClass\": \"\", \"trace\": \"\"}}, \"*\")"
      ],
      "text/plain": [
       "<IPython.core.display.Javascript object>"
      ]
     },
     "metadata": {},
     "output_type": "display_data"
    },
    {
     "data": {
      "text/markdown": [
       "<span style=\"color:#33cc33\">Correct</span>"
      ],
      "text/plain": [
       "Correct"
      ]
     },
     "metadata": {},
     "output_type": "display_data"
    }
   ],
   "source": [
    "X_4 = pd.DataFrame()\n",
    "\n",
    "X_4[\"MSClass\"] = df.MSSubClass.str.split(\"_\", n=1, expand=True)[0]\n",
    "\n",
    "# Check your answer\n",
    "q_4.check()"
   ]
  },
  {
   "cell_type": "code",
   "execution_count": 10,
   "id": "d1ff1dca",
   "metadata": {
    "execution": {
     "iopub.execute_input": "2021-07-19T11:23:29.694806Z",
     "iopub.status.busy": "2021-07-19T11:23:29.693767Z",
     "iopub.status.idle": "2021-07-19T11:23:29.696544Z",
     "shell.execute_reply": "2021-07-19T11:23:29.696021Z",
     "shell.execute_reply.started": "2021-07-19T11:21:35.204519Z"
    },
    "lines_to_next_cell": 0,
    "papermill": {
     "duration": 0.022811,
     "end_time": "2021-07-19T11:23:29.696681",
     "exception": false,
     "start_time": "2021-07-19T11:23:29.673870",
     "status": "completed"
    },
    "tags": []
   },
   "outputs": [],
   "source": [
    "# Lines below will give you a hint or solution code\n",
    "#q_4.hint()\n",
    "#q_4.solution()"
   ]
  },
  {
   "cell_type": "markdown",
   "id": "68a560ec",
   "metadata": {
    "papermill": {
     "duration": 0.016075,
     "end_time": "2021-07-19T11:23:29.728944",
     "exception": false,
     "start_time": "2021-07-19T11:23:29.712869",
     "status": "completed"
    },
    "tags": []
   },
   "source": [
    "# 5) Use a Grouped Transform\n",
    "\n",
    "The value of a home often depends on how it compares to typical homes in its neighborhood. Create a feature `MedNhbdArea` that describes the *median* of `GrLivArea` grouped on `Neighborhood`."
   ]
  },
  {
   "cell_type": "code",
   "execution_count": 11,
   "id": "fce33ce4",
   "metadata": {
    "execution": {
     "iopub.execute_input": "2021-07-19T11:23:29.765052Z",
     "iopub.status.busy": "2021-07-19T11:23:29.764430Z",
     "iopub.status.idle": "2021-07-19T11:23:29.782762Z",
     "shell.execute_reply": "2021-07-19T11:23:29.783202Z",
     "shell.execute_reply.started": "2021-07-19T11:22:02.560833Z"
    },
    "lines_to_next_cell": 0,
    "papermill": {
     "duration": 0.038171,
     "end_time": "2021-07-19T11:23:29.783380",
     "exception": false,
     "start_time": "2021-07-19T11:23:29.745209",
     "status": "completed"
    },
    "tags": []
   },
   "outputs": [
    {
     "data": {
      "application/javascript": [
       "parent.postMessage({\"jupyterEvent\": \"custom.exercise_interaction\", \"data\": {\"outcomeType\": 1, \"valueTowardsCompletion\": 0.2, \"interactionType\": 1, \"questionType\": 2, \"questionId\": \"5_Q5\", \"learnToolsVersion\": \"0.3.4\", \"failureMessage\": \"\", \"exceptionClass\": \"\", \"trace\": \"\"}}, \"*\")"
      ],
      "text/plain": [
       "<IPython.core.display.Javascript object>"
      ]
     },
     "metadata": {},
     "output_type": "display_data"
    },
    {
     "data": {
      "text/markdown": [
       "<span style=\"color:#33cc33\">Correct</span>"
      ],
      "text/plain": [
       "Correct"
      ]
     },
     "metadata": {},
     "output_type": "display_data"
    }
   ],
   "source": [
    "X_5 = pd.DataFrame()\n",
    "\n",
    "X_5[\"MedNhbdArea\"] = df.groupby(\"Neighborhood\")[\"GrLivArea\"].transform(\"median\")\n",
    "\n",
    "# Check your answer\n",
    "q_5.check()"
   ]
  },
  {
   "cell_type": "code",
   "execution_count": 12,
   "id": "4381d7b7",
   "metadata": {
    "execution": {
     "iopub.execute_input": "2021-07-19T11:23:29.821813Z",
     "iopub.status.busy": "2021-07-19T11:23:29.821202Z",
     "iopub.status.idle": "2021-07-19T11:23:29.824033Z",
     "shell.execute_reply": "2021-07-19T11:23:29.824408Z",
     "shell.execute_reply.started": "2021-07-19T11:22:53.539739Z"
    },
    "lines_to_next_cell": 0,
    "papermill": {
     "duration": 0.023299,
     "end_time": "2021-07-19T11:23:29.824573",
     "exception": false,
     "start_time": "2021-07-19T11:23:29.801274",
     "status": "completed"
    },
    "tags": []
   },
   "outputs": [],
   "source": [
    "# Lines below will give you a hint or solution code\n",
    "#q_5.hint()\n",
    "#q_5.solution()"
   ]
  },
  {
   "cell_type": "markdown",
   "id": "868814b9",
   "metadata": {
    "papermill": {
     "duration": 0.016911,
     "end_time": "2021-07-19T11:23:29.858196",
     "exception": false,
     "start_time": "2021-07-19T11:23:29.841285",
     "status": "completed"
    },
    "tags": []
   },
   "source": [
    "Now you've made your first new feature set! If you like, you can run the cell below to score the model with all of your new features added:"
   ]
  },
  {
   "cell_type": "code",
   "execution_count": 13,
   "id": "33b52ab9",
   "metadata": {
    "execution": {
     "iopub.execute_input": "2021-07-19T11:23:29.895657Z",
     "iopub.status.busy": "2021-07-19T11:23:29.895063Z",
     "iopub.status.idle": "2021-07-19T11:23:33.553224Z",
     "shell.execute_reply": "2021-07-19T11:23:33.552656Z",
     "shell.execute_reply.started": "2021-07-19T11:22:57.186302Z"
    },
    "papermill": {
     "duration": 3.678135,
     "end_time": "2021-07-19T11:23:33.553391",
     "exception": false,
     "start_time": "2021-07-19T11:23:29.875256",
     "status": "completed"
    },
    "tags": []
   },
   "outputs": [
    {
     "data": {
      "text/plain": [
       "0.13847331710099203"
      ]
     },
     "execution_count": 13,
     "metadata": {},
     "output_type": "execute_result"
    }
   ],
   "source": [
    "X_new = X.join([X_1, X_2, X_3, X_4, X_5])\n",
    "score_dataset(X_new, y)"
   ]
  },
  {
   "cell_type": "markdown",
   "id": "dc80313a",
   "metadata": {
    "papermill": {
     "duration": 0.017561,
     "end_time": "2021-07-19T11:23:33.588085",
     "exception": false,
     "start_time": "2021-07-19T11:23:33.570524",
     "status": "completed"
    },
    "tags": []
   },
   "source": [
    "# Keep Going #\n",
    "\n",
    "[**Untangle spatial relationships**](https://www.kaggle.com/ryanholbrook/clustering-with-k-means) by adding cluster labels to your dataset."
   ]
  },
  {
   "cell_type": "markdown",
   "id": "146365c3",
   "metadata": {
    "papermill": {
     "duration": 0.016671,
     "end_time": "2021-07-19T11:23:33.621938",
     "exception": false,
     "start_time": "2021-07-19T11:23:33.605267",
     "status": "completed"
    },
    "tags": []
   },
   "source": [
    "---\n",
    "\n",
    "\n",
    "\n",
    "\n",
    "*Have questions or comments? Visit the [Learn Discussion forum](https://www.kaggle.com/learn-forum/221677) to chat with other Learners.*"
   ]
  }
 ],
 "metadata": {
  "kernelspec": {
   "display_name": "Python 3",
   "language": "python",
   "name": "python3"
  },
  "language_info": {
   "codemirror_mode": {
    "name": "ipython",
    "version": 3
   },
   "file_extension": ".py",
   "mimetype": "text/x-python",
   "name": "python",
   "nbconvert_exporter": "python",
   "pygments_lexer": "ipython3",
   "version": "3.7.10"
  },
  "papermill": {
   "default_parameters": {},
   "duration": 14.798986,
   "end_time": "2021-07-19T11:23:35.436324",
   "environment_variables": {},
   "exception": null,
   "input_path": "__notebook__.ipynb",
   "output_path": "__notebook__.ipynb",
   "parameters": {},
   "start_time": "2021-07-19T11:23:20.637338",
   "version": "2.3.3"
  }
 },
 "nbformat": 4,
 "nbformat_minor": 5
}
